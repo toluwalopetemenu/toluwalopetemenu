{
 "cells": [
  {
   "cell_type": "markdown",
   "id": "e9027c04",
   "metadata": {},
   "source": [
    "# Data Science Tools and Ecosystem"
   ]
  },
  {
   "cell_type": "markdown",
   "id": "0f37538f",
   "metadata": {},
   "source": [
    "In this notebook, Data Science Tools and Ecosystems are summarized."
   ]
  },
  {
   "cell_type": "markdown",
   "id": "57ee5ea5",
   "metadata": {},
   "source": [
    "**Objectives:**\n",
    "\n",
    "* Popular languages for Data Science\n",
    "* Commonly Used Libraries by Data Scientist\n",
    "* Data Science tools\n",
    "* Arithmetic Expressions in Python\n",
    "* Simple Time conversion in python"
   ]
  },
  {
   "cell_type": "markdown",
   "id": "d955efa4",
   "metadata": {},
   "source": [
    "## Author\n",
    "Toluwalope Temenu"
   ]
  },
  {
   "cell_type": "markdown",
   "id": "eafd5773",
   "metadata": {},
   "source": [
    "Some of the popular languages that Data Scientists use are:\n",
    "\n",
    "1. Python\n",
    "2. R\n",
    "3. SQL\n",
    "4. Javascript"
   ]
  },
  {
   "cell_type": "markdown",
   "id": "f714a991",
   "metadata": {},
   "source": [
    "Some of the commonly used libraries used by Data Scientists include:\n",
    "\n",
    "1. Numpy\n",
    "2. Pandas\n",
    "3. Matplotlib\n",
    "4. Scikit\n",
    "5. Tensorflow"
   ]
  },
  {
   "cell_type": "markdown",
   "id": "4b5c5286",
   "metadata": {},
   "source": [
    "|Data Science Tools|\n",
    "---\n",
    "|Aparche Spark|\n",
    "|TensorFlow|\n",
    "|Git|"
   ]
  },
  {
   "cell_type": "markdown",
   "id": "cb75ac36",
   "metadata": {},
   "source": [
    "### Below are a few examples of evaluating arithmetic expressions in Python"
   ]
  },
  {
   "cell_type": "code",
   "execution_count": 1,
   "id": "553eba0a",
   "metadata": {},
   "outputs": [
    {
     "data": {
      "text/plain": [
       "17"
      ]
     },
     "execution_count": 1,
     "metadata": {},
     "output_type": "execute_result"
    }
   ],
   "source": [
    "(3*4)+5\n",
    "#This a simple arithmetic expression to mutiply then add integers"
   ]
  },
  {
   "cell_type": "code",
   "execution_count": 2,
   "id": "60f01f53",
   "metadata": {},
   "outputs": [
    {
     "data": {
      "text/plain": [
       "3.3333333333333335"
      ]
     },
     "execution_count": 2,
     "metadata": {},
     "output_type": "execute_result"
    }
   ],
   "source": [
    "200/60\n",
    "#This will convert 200 minutes to hours by diving by 60"
   ]
  },
  {
   "cell_type": "code",
   "execution_count": null,
   "id": "51788b9d",
   "metadata": {},
   "outputs": [],
   "source": []
  }
 ],
 "metadata": {
  "kernelspec": {
   "display_name": "Python 3 (ipykernel)",
   "language": "python",
   "name": "python3"
  },
  "language_info": {
   "codemirror_mode": {
    "name": "ipython",
    "version": 3
   },
   "file_extension": ".py",
   "mimetype": "text/x-python",
   "name": "python",
   "nbconvert_exporter": "python",
   "pygments_lexer": "ipython3",
   "version": "3.9.13"
  }
 },
 "nbformat": 4,
 "nbformat_minor": 5
}
